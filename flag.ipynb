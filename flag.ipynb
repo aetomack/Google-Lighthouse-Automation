{
 "cells": [
  {
   "cell_type": "code",
   "execution_count": 1,
   "metadata": {},
   "outputs": [],
   "source": [
    "import os \n",
    "import pandas as pd"
   ]
  },
  {
   "cell_type": "code",
   "execution_count": 4,
   "metadata": {},
   "outputs": [],
   "source": [
    "\n",
    "file = r'C:\\GH\\Google-Lighthouse-Automation\\lighthouse\\SJE\\Aggregate.csv'\n",
    "\n",
    "aggregate = pd.read_csv(file)\n",
    "aggregate = aggregate[aggregate[\"category\"].str.contains(\"Accessibility\")]\n",
    "aggregate = aggregate[aggregate[\"score\"]< 1.0]\n",
    "aggregate = aggregate[aggregate[\"score\"] != -1.0]\n",
    "#aggregate = aggregate[aggregate[\"score\"]!= 0]\n",
    "#aggregate = aggregate[aggregate[\"score\"]<0.90]"
   ]
  },
  {
   "cell_type": "code",
   "execution_count": 5,
   "metadata": {},
   "outputs": [],
   "source": [
    "aggregate.to_csv(r'C:\\GH\\Google-Lighthouse-Automation\\lighthouse\\SJE\\Flags.csv')"
   ]
  }
 ],
 "metadata": {
  "kernelspec": {
   "display_name": "lighthouse",
   "language": "python",
   "name": "python3"
  },
  "language_info": {
   "codemirror_mode": {
    "name": "ipython",
    "version": 3
   },
   "file_extension": ".py",
   "mimetype": "text/x-python",
   "name": "python",
   "nbconvert_exporter": "python",
   "pygments_lexer": "ipython3",
   "version": "3.12.3"
  }
 },
 "nbformat": 4,
 "nbformat_minor": 2
}
